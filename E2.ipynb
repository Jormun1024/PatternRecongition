{
 "cells": [
  {
   "cell_type": "code",
   "execution_count": 7,
   "metadata": {},
   "outputs": [],
   "source": [
    "import torch\n",
    "from torch import nn\n",
    "from torch.utils.data import DataLoader\n",
    "from torchvision import datasets\n",
    "from torchvision.transforms import ToTensor, Lambda\n",
    "x = torch.ones(5)  # input tensor\n",
    "y = torch.zeros(3)  # expected output\n",
    "w = torch.randn(5, 3, requires_grad=True)\n",
    "b = torch.randn(3, requires_grad=True)\n",
    "z = torch.matmul(x, w)+b\n",
    "loss = torch.nn.functional.binary_cross_entropy_with_logits(z, y)"
   ]
  },
  {
   "cell_type": "code",
   "execution_count": 8,
   "metadata": {},
   "outputs": [
    {
     "name": "stdout",
     "output_type": "stream",
     "text": [
      "Gradient function for z = <AddBackward0 object at 0x000001CA6F0CE948>\n",
      "Gradient function for loss = <BinaryCrossEntropyWithLogitsBackward0 object at 0x000001CA6F0CEDC8>\n"
     ]
    }
   ],
   "source": [
    "print('Gradient function for z =', z.grad_fn)\n",
    "print('Gradient function for loss =', loss.grad_fn)"
   ]
  },
  {
   "cell_type": "code",
   "execution_count": 9,
   "metadata": {},
   "outputs": [
    {
     "name": "stdout",
     "output_type": "stream",
     "text": [
      "tensor([[0.3209, 0.1532, 0.0126],\n",
      "        [0.3209, 0.1532, 0.0126],\n",
      "        [0.3209, 0.1532, 0.0126],\n",
      "        [0.3209, 0.1532, 0.0126],\n",
      "        [0.3209, 0.1532, 0.0126]])\n",
      "tensor([0.3209, 0.1532, 0.0126])\n"
     ]
    }
   ],
   "source": [
    "loss.backward()\n",
    "print(w.grad)\n",
    "print(b.grad)"
   ]
  },
  {
   "cell_type": "code",
   "execution_count": 10,
   "metadata": {},
   "outputs": [
    {
     "name": "stdout",
     "output_type": "stream",
     "text": [
      "True\n",
      "False\n"
     ]
    }
   ],
   "source": [
    "z = torch.matmul(x, w)+b\n",
    "print(z.requires_grad)\n",
    "with torch.no_grad():\n",
    "    z = torch.matmul(x, w)+b\n",
    "print(z.requires_grad)"
   ]
  },
  {
   "cell_type": "code",
   "execution_count": 11,
   "metadata": {},
   "outputs": [
    {
     "name": "stdout",
     "output_type": "stream",
     "text": [
      "False\n"
     ]
    }
   ],
   "source": [
    "z = torch.matmul(x, w)+b\n",
    "z_det = z.detach()\n",
    "print(z_det.requires_grad)"
   ]
  },
  {
   "cell_type": "code",
   "execution_count": 12,
   "metadata": {},
   "outputs": [
    {
     "name": "stdout",
     "output_type": "stream",
     "text": [
      "First call\n",
      " tensor([[4., 2., 2., 2., 2.],\n",
      "        [2., 4., 2., 2., 2.],\n",
      "        [2., 2., 4., 2., 2.],\n",
      "        [2., 2., 2., 4., 2.],\n",
      "        [2., 2., 2., 2., 4.]])\n",
      "\n",
      "Second call\n",
      " tensor([[8., 4., 4., 4., 4.],\n",
      "        [4., 8., 4., 4., 4.],\n",
      "        [4., 4., 8., 4., 4.],\n",
      "        [4., 4., 4., 8., 4.],\n",
      "        [4., 4., 4., 4., 8.]])\n",
      "\n",
      "Call after zeroing gradients\n",
      " tensor([[4., 2., 2., 2., 2.],\n",
      "        [2., 4., 2., 2., 2.],\n",
      "        [2., 2., 4., 2., 2.],\n",
      "        [2., 2., 2., 4., 2.],\n",
      "        [2., 2., 2., 2., 4.]])\n"
     ]
    }
   ],
   "source": [
    "inp = torch.eye(5, requires_grad=True)\n",
    "out = (inp+1).pow(2)\n",
    "out.backward(torch.ones_like(inp), retain_graph=True)\n",
    "print(\"First call\\n\", inp.grad)\n",
    "out.backward(torch.ones_like(inp), retain_graph=True)\n",
    "print(\"\\nSecond call\\n\", inp.grad)\n",
    "inp.grad.zero_()\n",
    "out.backward(torch.ones_like(inp), retain_graph=True)\n",
    "print(\"\\nCall after zeroing gradients\\n\", inp.grad)"
   ]
  },
  {
   "cell_type": "code",
   "execution_count": 13,
   "metadata": {},
   "outputs": [],
   "source": [
    "training_data = datasets.FashionMNIST(\n",
    "    root=\"data\",\n",
    "    train=True,\n",
    "    download=True,\n",
    "    transform=ToTensor()\n",
    ")\n",
    "test_data = datasets.FashionMNIST(\n",
    "    root=\"data\",\n",
    "    train=False,\n",
    "    download=True,\n",
    "    transform=ToTensor()\n",
    ")\n",
    "train_dataloader = DataLoader(training_data, batch_size=64)\n",
    "test_dataloader = DataLoader(test_data, batch_size=64)"
   ]
  },
  {
   "cell_type": "code",
   "execution_count": 14,
   "metadata": {},
   "outputs": [],
   "source": [
    "class NeuralNetwork(nn.Module):\n",
    "    def __init__(self):\n",
    "        super(NeuralNetwork, self).__init__()\n",
    "        self.flatten = nn.Flatten()\n",
    "        self.linear_relu_stack = nn.Sequential(\n",
    "            nn.Linear(28*28, 512),\n",
    "            nn.ReLU(),\n",
    "            nn.Linear(512, 512),\n",
    "            nn.ReLU(),\n",
    "            nn.Linear(512, 10),\n",
    "        )\n",
    "    def forward(self, x):\n",
    "        x = self.flatten(x)\n",
    "        logits = self.linear_relu_stack(x)\n",
    "        return logits\n",
    "model = NeuralNetwork()"
   ]
  },
  {
   "cell_type": "code",
   "execution_count": 15,
   "metadata": {},
   "outputs": [],
   "source": [
    "learning_rate = 1e-3\n",
    "batch_size = 64\n",
    "epochs = 5\n",
    "loss_fn = nn.CrossEntropyLoss()\n",
    "optimizer = torch.optim.SGD(model.parameters(), lr=learning_rate)"
   ]
  },
  {
   "cell_type": "code",
   "execution_count": 16,
   "metadata": {},
   "outputs": [],
   "source": [
    "def train_loop(dataloader, model, loss_fn, optimizer):\n",
    "    size = len(dataloader.dataset)\n",
    "    for batch, (X, y) in enumerate(dataloader):\n",
    "        pred = model(X)\n",
    "        loss = loss_fn(pred, y)\n",
    "        optimizer.zero_grad()\n",
    "        loss.backward()\n",
    "        optimizer.step()\n",
    "        if batch % 100 == 0:\n",
    "            loss, current = loss.item(), batch * len(X)\n",
    "            print(f\"loss: {loss:>7f}  [{current:>5d}/{size:>5d}]\")"
   ]
  },
  {
   "cell_type": "code",
   "execution_count": 17,
   "metadata": {},
   "outputs": [],
   "source": [
    "def test_loop(dataloader, model, loss_fn):\n",
    "    size = len(dataloader.dataset)\n",
    "    num_batches = len(dataloader)\n",
    "    test_loss, correct = 0, 0\n",
    "    with torch.no_grad():\n",
    "        for X, y in dataloader:\n",
    "            pred = model(X)\n",
    "            test_loss += loss_fn(pred, y).item()\n",
    "            correct += (pred.argmax(1) == y).type(torch.float).sum().item()\n",
    "    test_loss /= num_batches\n",
    "    correct /= size\n",
    "    print(f\"Test Error: \\n Accuracy: {(100*correct):>0.1f}%, Avg loss: {test_loss:>8f} \\n\")"
   ]
  },
  {
   "cell_type": "code",
   "execution_count": 18,
   "metadata": {},
   "outputs": [
    {
     "name": "stdout",
     "output_type": "stream",
     "text": [
      "Epoch 1\n",
      "-------------------------------\n",
      "loss: 2.303501  [    0/60000]\n",
      "loss: 2.293411  [ 6400/60000]\n",
      "loss: 2.268303  [12800/60000]\n",
      "loss: 2.255210  [19200/60000]\n",
      "loss: 2.248738  [25600/60000]\n",
      "loss: 2.203879  [32000/60000]\n",
      "loss: 2.219673  [38400/60000]\n",
      "loss: 2.179767  [44800/60000]\n",
      "loss: 2.182312  [51200/60000]\n",
      "loss: 2.129053  [57600/60000]\n",
      "Test Error: \n",
      " Accuracy: 32.9%, Avg loss: 2.138717 \n",
      "\n",
      "Epoch 2\n",
      "-------------------------------\n",
      "loss: 2.159587  [    0/60000]\n",
      "loss: 2.146534  [ 6400/60000]\n",
      "loss: 2.080247  [12800/60000]\n",
      "loss: 2.085595  [19200/60000]\n",
      "loss: 2.043234  [25600/60000]\n",
      "loss: 1.972410  [32000/60000]\n",
      "loss: 1.997621  [38400/60000]\n",
      "loss: 1.917892  [44800/60000]\n",
      "loss: 1.935311  [51200/60000]\n",
      "loss: 1.826147  [57600/60000]\n",
      "Test Error: \n",
      " Accuracy: 53.6%, Avg loss: 1.846438 \n",
      "\n",
      "Epoch 3\n",
      "-------------------------------\n",
      "loss: 1.894928  [    0/60000]\n",
      "loss: 1.854219  [ 6400/60000]\n",
      "loss: 1.730291  [12800/60000]\n",
      "loss: 1.759279  [19200/60000]\n",
      "loss: 1.658359  [25600/60000]\n",
      "loss: 1.614263  [32000/60000]\n",
      "loss: 1.625704  [38400/60000]\n",
      "loss: 1.537310  [44800/60000]\n",
      "loss: 1.575025  [51200/60000]\n",
      "loss: 1.441776  [57600/60000]\n",
      "Test Error: \n",
      " Accuracy: 59.9%, Avg loss: 1.477678 \n",
      "\n",
      "Epoch 4\n",
      "-------------------------------\n",
      "loss: 1.556896  [    0/60000]\n",
      "loss: 1.515014  [ 6400/60000]\n",
      "loss: 1.360209  [12800/60000]\n",
      "loss: 1.423902  [19200/60000]\n",
      "loss: 1.316233  [25600/60000]\n",
      "loss: 1.320570  [32000/60000]\n",
      "loss: 1.324226  [38400/60000]\n",
      "loss: 1.259661  [44800/60000]\n",
      "loss: 1.301260  [51200/60000]\n",
      "loss: 1.187399  [57600/60000]\n",
      "Test Error: \n",
      " Accuracy: 62.8%, Avg loss: 1.223065 \n",
      "\n",
      "Epoch 5\n",
      "-------------------------------\n",
      "loss: 1.305894  [    0/60000]\n",
      "loss: 1.285541  [ 6400/60000]\n",
      "loss: 1.112309  [12800/60000]\n",
      "loss: 1.215530  [19200/60000]\n",
      "loss: 1.096862  [25600/60000]\n",
      "loss: 1.128586  [32000/60000]\n",
      "loss: 1.142101  [38400/60000]\n",
      "loss: 1.090675  [44800/60000]\n",
      "loss: 1.132117  [51200/60000]\n",
      "loss: 1.038775  [57600/60000]\n",
      "Test Error: \n",
      " Accuracy: 64.4%, Avg loss: 1.066591 \n",
      "\n",
      "Epoch 6\n",
      "-------------------------------\n",
      "loss: 1.139354  [    0/60000]\n",
      "loss: 1.142132  [ 6400/60000]\n",
      "loss: 0.951366  [12800/60000]\n",
      "loss: 1.087064  [19200/60000]\n",
      "loss: 0.960991  [25600/60000]\n",
      "loss: 0.999025  [32000/60000]\n",
      "loss: 1.029280  [38400/60000]\n",
      "loss: 0.985601  [44800/60000]\n",
      "loss: 1.021958  [51200/60000]\n",
      "loss: 0.944882  [57600/60000]\n",
      "Test Error: \n",
      " Accuracy: 65.8%, Avg loss: 0.965766 \n",
      "\n",
      "Epoch 7\n",
      "-------------------------------\n",
      "loss: 1.023124  [    0/60000]\n",
      "loss: 1.048615  [ 6400/60000]\n",
      "loss: 0.841933  [12800/60000]\n",
      "loss: 1.001617  [19200/60000]\n",
      "loss: 0.873789  [25600/60000]\n",
      "loss: 0.907934  [32000/60000]\n",
      "loss: 0.954865  [38400/60000]\n",
      "loss: 0.918467  [44800/60000]\n",
      "loss: 0.946084  [51200/60000]\n",
      "loss: 0.881362  [57600/60000]\n",
      "Test Error: \n",
      " Accuracy: 67.1%, Avg loss: 0.897045 \n",
      "\n",
      "Epoch 8\n",
      "-------------------------------\n",
      "loss: 0.937706  [    0/60000]\n",
      "loss: 0.983007  [ 6400/60000]\n",
      "loss: 0.764304  [12800/60000]\n",
      "loss: 0.940764  [19200/60000]\n",
      "loss: 0.814913  [25600/60000]\n",
      "loss: 0.841571  [32000/60000]\n",
      "loss: 0.902017  [38400/60000]\n",
      "loss: 0.874240  [44800/60000]\n",
      "loss: 0.891648  [51200/60000]\n",
      "loss: 0.834983  [57600/60000]\n",
      "Test Error: \n",
      " Accuracy: 68.4%, Avg loss: 0.847522 \n",
      "\n",
      "Epoch 9\n",
      "-------------------------------\n",
      "loss: 0.872084  [    0/60000]\n",
      "loss: 0.933522  [ 6400/60000]\n",
      "loss: 0.706762  [12800/60000]\n",
      "loss: 0.895193  [19200/60000]\n",
      "loss: 0.772916  [25600/60000]\n",
      "loss: 0.792018  [32000/60000]\n",
      "loss: 0.861541  [38400/60000]\n",
      "loss: 0.843568  [44800/60000]\n",
      "loss: 0.850870  [51200/60000]\n",
      "loss: 0.798965  [57600/60000]\n",
      "Test Error: \n",
      " Accuracy: 69.6%, Avg loss: 0.809849 \n",
      "\n",
      "Epoch 10\n",
      "-------------------------------\n",
      "loss: 0.819357  [    0/60000]\n",
      "loss: 0.893716  [ 6400/60000]\n",
      "loss: 0.662221  [12800/60000]\n",
      "loss: 0.859741  [19200/60000]\n",
      "loss: 0.741260  [25600/60000]\n",
      "loss: 0.753899  [32000/60000]\n",
      "loss: 0.828452  [38400/60000]\n",
      "loss: 0.820708  [44800/60000]\n",
      "loss: 0.818839  [51200/60000]\n",
      "loss: 0.769545  [57600/60000]\n",
      "Test Error: \n",
      " Accuracy: 71.0%, Avg loss: 0.779651 \n",
      "\n",
      "Done!\n"
     ]
    }
   ],
   "source": [
    "loss_fn = nn.CrossEntropyLoss()\n",
    "optimizer = torch.optim.SGD(model.parameters(), lr=learning_rate)\n",
    "epochs = 10\n",
    "for t in range(epochs):\n",
    "    print(f\"Epoch {t+1}\\n-------------------------------\")\n",
    "    train_loop(train_dataloader, model, loss_fn, optimizer)\n",
    "    test_loop(test_dataloader, model, loss_fn)\n",
    "print(\"Done!\")"
   ]
  }
 ],
 "metadata": {
  "kernelspec": {
   "display_name": "prbi",
   "language": "python",
   "name": "python3"
  },
  "language_info": {
   "codemirror_mode": {
    "name": "ipython",
    "version": 3
   },
   "file_extension": ".py",
   "mimetype": "text/x-python",
   "name": "python",
   "nbconvert_exporter": "python",
   "pygments_lexer": "ipython3",
   "version": "3.7.16"
  },
  "orig_nbformat": 4
 },
 "nbformat": 4,
 "nbformat_minor": 2
}
