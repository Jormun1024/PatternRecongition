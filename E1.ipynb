{
 "cells": [
  {
   "cell_type": "code",
   "execution_count": 2,
   "metadata": {},
   "outputs": [
    {
     "name": "stdout",
     "output_type": "stream",
     "text": [
      "[1, 1, 2, 3, 6, 8, 10]\n"
     ]
    }
   ],
   "source": [
    "def quicksort(arr):\n",
    "\tif len(arr) <= 1:\n",
    "\t\treturn arr\n",
    "\tpivot = arr[len(arr) // 2]\n",
    "\tleft = [x for x in arr if x < pivot]\n",
    "\tmiddle = [x for x in arr if x == pivot]\n",
    "\tright = [x for x in arr if x > pivot]\n",
    "\treturn quicksort(left) + middle + quicksort(right)\n",
    "print(quicksort([3,6,8,10,1,2,1]))"
   ]
  },
  {
   "cell_type": "code",
   "execution_count": 3,
   "id": "096d1d02",
   "metadata": {},
   "outputs": [
    {
     "name": "stdout",
     "output_type": "stream",
     "text": [
      "<class 'int'>\n",
      "3\n",
      "4\n",
      "2\n",
      "6\n",
      "9\n",
      "4\n",
      "8\n",
      "<class 'float'>\n",
      "2.5 3.5 5.0 6.25\n"
     ]
    }
   ],
   "source": [
    "x = 3\n",
    "print(type(x))\n",
    "print(x)\n",
    "print(x + 1) \n",
    "print(x - 1) \n",
    "print(x * 2) \n",
    "print(x ** 2)\n",
    "x += 1\n",
    "print(x)\n",
    "x *= 2\n",
    "print(x)\n",
    "y = 2.5\n",
    "print(type(y))\n",
    "print(y, y + 1, y * 2, y ** 2) "
   ]
  },
  {
   "cell_type": "code",
   "execution_count": 4,
   "id": "c52c7f96",
   "metadata": {},
   "outputs": [
    {
     "name": "stdout",
     "output_type": "stream",
     "text": [
      "hello\n",
      "5\n",
      "hello world\n",
      "hello world 12\n",
      "Hello\n",
      "HELLO\n",
      "  hello\n",
      " hello \n",
      "he(ell)(ell)o\n",
      "world\n"
     ]
    }
   ],
   "source": [
    "hello = 'hello'\n",
    "world = \"world\"\n",
    "print(hello)\n",
    "print(len(hello))\n",
    "hw = hello + ' ' + world\n",
    "print(hw)\n",
    "hw12 = '%s %s %d' % (hello, world, 12) \n",
    "print(hw12) \n",
    "s = \"hello\"\n",
    "print(s.capitalize())\n",
    "print(s.upper())\n",
    "print(s.rjust(7))\n",
    "print(s.center(7))\n",
    "print(s.replace('l', '(ell)')) \n",
    "print(' world '.strip())"
   ]
  },
  {
   "cell_type": "code",
   "execution_count": 5,
   "id": "ad524890",
   "metadata": {},
   "outputs": [
    {
     "name": "stdout",
     "output_type": "stream",
     "text": [
      "[3, 1, 2] 2\n",
      "2\n",
      "[3, 1, 'foo']\n",
      "[3, 1, 'foo', 'bar']\n",
      "bar [3, 1, 'foo']\n"
     ]
    }
   ],
   "source": [
    "xs = [3, 1, 2]\n",
    "print (xs, xs[2])\n",
    "print (xs[-1])\n",
    "xs[2] = 'foo'\n",
    "print (xs)\n",
    "xs.append('bar') \n",
    "print (xs)\n",
    "x = xs.pop()\n",
    "print (x, xs )"
   ]
  },
  {
   "cell_type": "code",
   "execution_count": 6,
   "id": "ffa93b68",
   "metadata": {},
   "outputs": [
    {
     "name": "stdout",
     "output_type": "stream",
     "text": [
      "cute\n",
      "True\n",
      "wet\n",
      "N/A\n",
      "wet\n",
      "N/A\n"
     ]
    }
   ],
   "source": [
    "d = {'cat': 'cute', 'dog': 'furry'}\n",
    "print (d['cat'])\n",
    "print ('cat' in d)\n",
    "d['fish'] = 'wet'\n",
    "print (d['fish'])\n",
    "print (d.get('monkey', 'N/A'))\n",
    "print (d.get('fish', 'N/A'))\n",
    "del d['fish']\n",
    "print (d.get('fish', 'N/A'))"
   ]
  }
 ],
 "metadata": {
  "kernelspec": {
   "display_name": "prbi",
   "language": "python",
   "name": "python3"
  },
  "language_info": {
   "codemirror_mode": {
    "name": "ipython",
    "version": 3
   },
   "file_extension": ".py",
   "mimetype": "text/x-python",
   "name": "python",
   "nbconvert_exporter": "python",
   "pygments_lexer": "ipython3",
   "version": "3.7.16"
  }
 },
 "nbformat": 4,
 "nbformat_minor": 5
}
